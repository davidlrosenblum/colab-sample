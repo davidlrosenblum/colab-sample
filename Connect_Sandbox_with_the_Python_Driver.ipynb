{
  "nbformat": 4,
  "nbformat_minor": 0,
  "metadata": {
    "colab": {
      "name": "Copy of Connecting with the Python Driver.ipynb",
      "provenance": [],
      "collapsed_sections": [],
      "include_colab_link": true
    },
    "kernelspec": {
      "name": "python3",
      "display_name": "Python 3"
    },
    "language_info": {
      "name": "python"
    }
  },
  "cells": [
    {
      "cell_type": "markdown",
      "metadata": {
        "id": "view-in-github",
        "colab_type": "text"
      },
      "source": [
        "<a href=\"https://colab.research.google.com/github/davidlrosenblum/colab-sample/blob/main/Connect_Sandbox_with_the_Python_Driver.ipynb\" target=\"_parent\"><img src=\"https://colab.research.google.com/assets/colab-badge.svg\" alt=\"Open In Colab\"/></a>"
      ]
    },
    {
      "cell_type": "markdown",
      "metadata": {
        "id": "Uhu8gK021b6d"
      },
      "source": [
        "# Connecting with the Python Driver\n",
        "\n",
        "Within this tutorial, we’ll give you some best practices for connecting and interacting with Neo4j and the Graph Data Science Library.\n",
        "\n",
        "For more information about the Python Driver, head over to the [Neo4j Driver Manual](https://neo4j.com/docs/driver-manual/current/get-started). \n"
      ]
    },
    {
      "cell_type": "markdown",
      "metadata": {
        "id": "NcAG2FJ-aXOJ"
      },
      "source": [
        "# Install the latest stable version of the Python Driver:\n",
        "\n",
        "```pip install neo4j```\n",
        "\n",
        " \n",
        "To find the latest stable version of the Python Driver, visit https://pypi.org/project/neo4j/\n",
        "\n",
        "To find a list of all available releases, visit https://pypi.org/simple/neo4j/"
      ]
    },
    {
      "cell_type": "code",
      "metadata": {
        "id": "lLi0tbsaaWnH",
        "colab": {
          "base_uri": "https://localhost:8080/"
        },
        "outputId": "08f3bdd1-b882-40e4-f37b-f73670b81af3"
      },
      "source": [
        "!pip install neo4j"
      ],
      "execution_count": null,
      "outputs": [
        {
          "output_type": "stream",
          "name": "stdout",
          "text": [
            "Looking in indexes: https://pypi.org/simple, https://us-python.pkg.dev/colab-wheels/public/simple/\n",
            "Collecting neo4j\n",
            "  Downloading neo4j-4.4.4.tar.gz (90 kB)\n",
            "\u001b[K     |████████████████████████████████| 90 kB 7.9 MB/s \n",
            "\u001b[?25hRequirement already satisfied: pytz in /usr/local/lib/python3.7/dist-packages (from neo4j) (2022.1)\n",
            "Building wheels for collected packages: neo4j\n",
            "  Building wheel for neo4j (setup.py) ... \u001b[?25l\u001b[?25hdone\n",
            "  Created wheel for neo4j: filename=neo4j-4.4.4-py3-none-any.whl size=116554 sha256=f9598c89e4a9eec3431ae8767320faedc76b8581e6571737e84db09d0ddc0b47\n",
            "  Stored in directory: /root/.cache/pip/wheels/cf/c9/60/dab99fdca0093b46a9c9f5d5b99317c9d323c97d2f5af24e23\n",
            "Successfully built neo4j\n",
            "Installing collected packages: neo4j\n",
            "Successfully installed neo4j-4.4.4\n"
          ]
        }
      ]
    },
    {
      "cell_type": "markdown",
      "metadata": {
        "id": "yq4teBi929Z0"
      },
      "source": [
        "# Importing the driver\n",
        "\n",
        "\n",
        "The main import you’ll need is the `GraphDatabase` import. This will allow you to create a driver which we will use to connect to and run queries against the database.\n",
        " \n",
        "```from neo4j import GraphDatabase```\n"
      ]
    },
    {
      "cell_type": "code",
      "metadata": {
        "id": "byV2v2en29mP"
      },
      "source": [
        "# Driver import\n",
        "from neo4j import GraphDatabase"
      ],
      "execution_count": null,
      "outputs": []
    },
    {
      "cell_type": "markdown",
      "metadata": {
        "id": "hVmDechnb-YA"
      },
      "source": [
        "# Connection Details\n",
        "\n",
        "Connecting to your instance will need the three inputs:\n",
        "\n",
        "*   Database Connection URI\n",
        "*   Database Username\n",
        "*   Database Password\n",
        "\n",
        "You will have been given the Database Username and Password when you created your database. Copy and paste these into each of the relevant fields labelled: `DB_USERNAME` & `DB_PASSWORD`.\n",
        "\n",
        "\n",
        "You can find your database connection URI located on the database card under the Database section within Aura.\n",
        "Copy and paste this into the field labelled: `DB_CONNECTION_URI`\n"
      ]
    },
    {
      "cell_type": "code",
      "metadata": {
        "id": "PaVUVEyAb-F8"
      },
      "source": [
        "# Connection Details\n",
        "# Aura queries use an encrypted connection using the \"neo4j+s\" URI scheme\n",
        "DB_CONNECTION_URI = \"neo4j://<IPADDRESS_HERE>:7687\"\n",
        "DB_USERNAME = \"neo4j\"\n",
        "DB_PASSWORD = \"xxxxx\""
      ],
      "execution_count": null,
      "outputs": []
    },
    {
      "cell_type": "markdown",
      "metadata": {
        "id": "SEt_vDa_-g1G"
      },
      "source": [
        "# Driver Object\n",
        "\n",
        "Constructing a driver instance requires the connection URI (`AURA_CONNECTION_URI`) and authentication information (`AURA_USERNAME` & `AURA_PASSWORD`).\n",
        "\n",
        "We'll use the Driver object to create Sessions with the database, this will allow you to run Queries.\n"
      ]
    },
    {
      "cell_type": "code",
      "metadata": {
        "id": "Wi9fpoct-hEf"
      },
      "source": [
        "# Driver Instantiation\n",
        "driver = GraphDatabase.driver(DB_CONNECTION_URI, auth=(DB_USERNAME, DB_PASSWORD))"
      ],
      "execution_count": null,
      "outputs": []
    },
    {
      "cell_type": "markdown",
      "metadata": {
        "id": "GEtkXg7W_3u0"
      },
      "source": [
        "# Running a query\n",
        "\n",
        "Below we'll run two example queries. \n",
        "\n",
        "The first will get the version of GDS running on the database.\n",
        "\n",
        "The second will ask GDS to list all the procedures availabile within the library and return the first 5"
      ]
    },
    {
      "cell_type": "code",
      "metadata": {
        "id": "Pu1DiJV0_36y",
        "colab": {
          "base_uri": "https://localhost:8080/"
        },
        "outputId": "bf608c6b-2c08-48db-fa7c-6adc0a38c12c"
      },
      "source": [
        "# Cypher Query\n",
        "list_gds_version_query = \"\"\"\n",
        "RETURN gds.version() AS version\n",
        "\"\"\"\n",
        "\n",
        "# Create a driver session\n",
        "with driver.session() as session:\n",
        "  # use the driver session to run a query\n",
        "  # .data() gives us access the results as an array of dicts\n",
        "  results = session.run(list_gds_version_query).data()\n",
        "  print(results)\n"
      ],
      "execution_count": null,
      "outputs": [
        {
          "output_type": "stream",
          "name": "stdout",
          "text": [
            "[{'version': '2.0.1'}]\n"
          ]
        }
      ]
    },
    {
      "cell_type": "code",
      "metadata": {
        "id": "NTLntWgPbHBM",
        "colab": {
          "base_uri": "https://localhost:8080/"
        },
        "outputId": "81f5237c-7568-443b-d5a5-b79d3e64f5ec"
      },
      "source": [
        "import json\n",
        "\n",
        "list_all_gds_procedures_query = \"\"\"\n",
        "call gds.list()\n",
        "\"\"\"\n",
        "\n",
        "# Create a driver session\n",
        "with driver.session() as session:\n",
        "  # use the driver session to run a query\n",
        "  # .data() gives us access the results as an array of dicts\n",
        "  results = session.run(list_all_gds_procedures_query).data()\n",
        "  \n",
        "  # print the first 5 results\n",
        "  for procedure in results[:5]:\n",
        "    print(json.dumps(procedure, indent=2))\n"
      ],
      "execution_count": null,
      "outputs": [
        {
          "output_type": "stream",
          "name": "stdout",
          "text": [
            "{\n",
            "  \"name\": \"gds.allShortestPaths.delta.mutate\",\n",
            "  \"description\": \"The Delta Stepping shortest path algorithm computes the shortest (weighted) path between one node and any other node in the graph. The computation is run multi-threaded\",\n",
            "  \"signature\": \"gds.allShortestPaths.delta.mutate(graphName :: STRING?, configuration = {} :: MAP?) :: (relationshipsWritten :: INTEGER?, mutateMillis :: INTEGER?, postProcessingMillis :: INTEGER?, preProcessingMillis :: INTEGER?, computeMillis :: INTEGER?, configuration :: MAP?)\",\n",
            "  \"type\": \"procedure\"\n",
            "}\n",
            "{\n",
            "  \"name\": \"gds.allShortestPaths.delta.mutate.estimate\",\n",
            "  \"description\": \"Returns an estimation of the memory consumption for that procedure.\",\n",
            "  \"signature\": \"gds.allShortestPaths.delta.mutate.estimate(graphNameOrConfiguration :: ANY?, algoConfiguration :: MAP?) :: (requiredMemory :: STRING?, treeView :: STRING?, mapView :: MAP?, bytesMin :: INTEGER?, bytesMax :: INTEGER?, nodeCount :: INTEGER?, relationshipCount :: INTEGER?, heapPercentageMin :: FLOAT?, heapPercentageMax :: FLOAT?)\",\n",
            "  \"type\": \"procedure\"\n",
            "}\n",
            "{\n",
            "  \"name\": \"gds.allShortestPaths.delta.stream\",\n",
            "  \"description\": \"The Delta Stepping shortest path algorithm computes the shortest (weighted) path between one node and any other node in the graph. The computation is run multi-threaded\",\n",
            "  \"signature\": \"gds.allShortestPaths.delta.stream(graphName :: STRING?, configuration = {} :: MAP?) :: (index :: INTEGER?, sourceNode :: INTEGER?, targetNode :: INTEGER?, totalCost :: FLOAT?, nodeIds :: LIST? OF INTEGER?, costs :: LIST? OF FLOAT?, path :: PATH?)\",\n",
            "  \"type\": \"procedure\"\n",
            "}\n",
            "{\n",
            "  \"name\": \"gds.allShortestPaths.delta.stream.estimate\",\n",
            "  \"description\": \"Returns an estimation of the memory consumption for that procedure.\",\n",
            "  \"signature\": \"gds.allShortestPaths.delta.stream.estimate(graphNameOrConfiguration :: ANY?, algoConfiguration :: MAP?) :: (requiredMemory :: STRING?, treeView :: STRING?, mapView :: MAP?, bytesMin :: INTEGER?, bytesMax :: INTEGER?, nodeCount :: INTEGER?, relationshipCount :: INTEGER?, heapPercentageMin :: FLOAT?, heapPercentageMax :: FLOAT?)\",\n",
            "  \"type\": \"procedure\"\n",
            "}\n",
            "{\n",
            "  \"name\": \"gds.allShortestPaths.delta.write\",\n",
            "  \"description\": \"The Delta Stepping shortest path algorithm computes the shortest (weighted) path between one node and any other node in the graph. The computation is run multi-threaded\",\n",
            "  \"signature\": \"gds.allShortestPaths.delta.write(graphName :: STRING?, configuration = {} :: MAP?) :: (relationshipsWritten :: INTEGER?, writeMillis :: INTEGER?, postProcessingMillis :: INTEGER?, preProcessingMillis :: INTEGER?, computeMillis :: INTEGER?, configuration :: MAP?)\",\n",
            "  \"type\": \"procedure\"\n",
            "}\n"
          ]
        }
      ]
    },
    {
      "cell_type": "markdown",
      "metadata": {
        "id": "yFcBNizfqY24"
      },
      "source": [
        "# Closing your driver\n",
        "\n",
        "When you're finished interacting with your instance, you should close your driver connection."
      ]
    },
    {
      "cell_type": "code",
      "metadata": {
        "id": "XWefnCPIqZF4"
      },
      "source": [
        "# Close the Driver connection\n",
        "driver.close()"
      ],
      "execution_count": null,
      "outputs": []
    },
    {
      "cell_type": "markdown",
      "metadata": {
        "id": "E4zMYfSy_4hP"
      },
      "source": [
        "# References\n",
        "\n",
        "\n",
        "## Documentation\n",
        "* Neo4j GDSL Documentation: https://neo4j.com/docs/graph-data-science\n",
        "* Neo4j Driver Documentation:\n",
        "https://neo4j.com/docs/driver-manual/current/get-started/\n",
        "* Neo4j Developer Documentation:\n",
        "https://neo4j.com/developer\n",
        "\n",
        "## Cypher\n",
        "* Learn more about the Cypher syntax:\n",
        "https://neo4j.com/docs/cypher-manual/current/\n",
        "* The Cypher Reference Card is also a great resource for understanding how to use Cypher keywords:\n",
        "https://neo4j.com/docs/cypher-refcard/current/\n",
        "\n",
        "## Modelling\n",
        "* Data modelling guidelines:\n",
        "https://neo4j.com/developer/guide-data-modeling/\n",
        "* Data modelling design:\n",
        "https://neo4j.com/developer/modeling-designs/\n",
        "* Refactoring a data model:\n",
        "https://neo4j.com/developer/graph-model-refactoring/\n",
        "\n",
        "\n"
      ]
    }
  ]
}