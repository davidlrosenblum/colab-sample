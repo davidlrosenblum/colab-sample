{
  "nbformat": 4,
  "nbformat_minor": 0,
  "metadata": {
    "colab": {
      "name": "Copy of Connecting with the Python Driver.ipynb",
      "provenance": [],
      "collapsed_sections": [],
      "include_colab_link": true
    },
    "kernelspec": {
      "name": "python3",
      "display_name": "Python 3"
    },
    "language_info": {
      "name": "python"
    }
  },
  "cells": [
    {
      "cell_type": "markdown",
      "metadata": {
        "id": "view-in-github",
        "colab_type": "text"
      },
      "source": [
        "<a href=\"https://colab.research.google.com/github/davidlrosenblum/colab-sample/blob/main/Connect_sandbox_with_the_Python_Driver.ipynb\" target=\"_parent\"><img src=\"https://colab.research.google.com/assets/colab-badge.svg\" alt=\"Open In Colab\"/></a>"
      ]
    },
    {
      "cell_type": "markdown",
      "metadata": {
        "id": "Uhu8gK021b6d"
      },
      "source": [
        "# Connecting with the Python Driver\n",
        "\n",
        "Within this tutorial, we’ll give you some best practices for connecting and interacting with Neo4j and the Graph Data Science Library.\n",
        "\n",
        "For more information about the Python Driver, head over to the [Neo4j Driver Manual](https://neo4j.com/docs/driver-manual/current/get-started). \n"
      ]
    },
    {
      "cell_type": "markdown",
      "metadata": {
        "id": "NcAG2FJ-aXOJ"
      },
      "source": [
        "# Install the latest stable version of the Python Driver:\n",
        "\n",
        "```pip install neo4j```\n",
        "\n",
        " \n",
        "To find the latest stable version of the Python Driver, visit https://pypi.org/project/neo4j/\n",
        "\n",
        "To find a list of all available releases, visit https://pypi.org/simple/neo4j/"
      ]
    },
    {
      "cell_type": "code",
      "metadata": {
        "id": "lLi0tbsaaWnH",
        "colab": {
          "base_uri": "https://localhost:8080/"
        },
        "outputId": "08f3bdd1-b882-40e4-f37b-f73670b81af3"
      },
      "source": [
        "!pip install neo4j"
      ],
      "execution_count": null,
      "outputs": [
        {
          "output_type": "stream",
          "name": "stdout",
          "text": [
            "Looking in indexes: https://pypi.org/simple, https://us-python.pkg.dev/colab-wheels/public/simple/\n",
            "Collecting neo4j\n",
            "  Downloading neo4j-4.4.4.tar.gz (90 kB)\n",
            "\u001b[K     |████████████████████████████████| 90 kB 7.9 MB/s \n",
            "\u001b[?25hRequirement already satisfied: pytz in /usr/local/lib/python3.7/dist-packages (from neo4j) (2022.1)\n",
            "Building wheels for collected packages: neo4j\n",
            "  Building wheel for neo4j (setup.py) ... \u001b[?25l\u001b[?25hdone\n",
            "  Created wheel for neo4j: filename=neo4j-4.4.4-py3-none-any.whl size=116554 sha256=f9598c89e4a9eec3431ae8767320faedc76b8581e6571737e84db09d0ddc0b47\n",
            "  Stored in directory: /root/.cache/pip/wheels/cf/c9/60/dab99fdca0093b46a9c9f5d5b99317c9d323c97d2f5af24e23\n",
            "Successfully built neo4j\n",
            "Installing collected packages: neo4j\n",
            "Successfully installed neo4j-4.4.4\n"
          ]
        }
      ]
    },
    {
      "cell_type": "markdown",
      "metadata": {
        "id": "yq4teBi929Z0"
      },
      "source": [
        "# Importing the driver\n",
        "\n",
        "\n",
        "The main import you’ll need is the `GraphDatabase` import. This will allow you to create a driver which we will use to connect to and run queries against the database.\n",
        " \n",
        "```from neo4j import GraphDatabase```\n"
      ]
    },
    {
      "cell_type": "code",
      "metadata": {
        "id": "byV2v2en29mP"
      },
      "source": [
        "# Driver import\n",
        "from neo4j import GraphDatabase"
      ],
      "execution_count": null,
      "outputs": []
    },
    {
      "cell_type": "markdown",
      "metadata": {
        "id": "hVmDechnb-YA"
      },
      "source": [
        "# Connection Details\n",
        "\n",
        "Connecting to your instance will need the three inputs:\n",
        "\n",
        "*   Database Connection URI\n",
        "*   Database Username\n",
        "*   Database Password\n",
        "\n",
        "You will have been given the Database Username and Password when you created your database. Copy and paste these into each of the relevant fields labelled: `AURA_USERNAME` & `AURA_PASSWORD`.\n",
        "\n",
        "\n",
        "You can find your database connection URI located on the database card under the Database section within Aura.\n",
        "Copy and paste this into the field labelled: `AURA_CONNECTION_URI`\n",
        "\n",
        "![database_card.png](data:image/png;base64,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)"
      ]
    },
    {
      "cell_type": "code",
      "metadata": {
        "id": "PaVUVEyAb-F8"
      },
      "source": [
        "# Connection Details\n",
        "# Aura queries use an encrypted connection using the \"neo4j+s\" URI scheme\n",
        "AURA_CONNECTION_URI = \"neo4j://44.198.166.2:7687\"\n",
        "AURA_USERNAME = \"neo4j\"\n",
        "AURA_PASSWORD = \"web-person-egg\""
      ],
      "execution_count": null,
      "outputs": []
    },
    {
      "cell_type": "markdown",
      "metadata": {
        "id": "SEt_vDa_-g1G"
      },
      "source": [
        "# Driver Object\n",
        "\n",
        "Constructing a driver instance requires the connection URI (`AURA_CONNECTION_URI`) and authentication information (`AURA_USERNAME` & `AURA_PASSWORD`).\n",
        "\n",
        "We'll use the Driver object to create Sessions with the database, this will allow you to run Queries.\n"
      ]
    },
    {
      "cell_type": "code",
      "metadata": {
        "id": "Wi9fpoct-hEf"
      },
      "source": [
        "# Driver Instantiation\n",
        "driver = GraphDatabase.driver(AURA_CONNECTION_URI, auth=(AURA_USERNAME, AURA_PASSWORD))"
      ],
      "execution_count": null,
      "outputs": []
    },
    {
      "cell_type": "markdown",
      "metadata": {
        "id": "GEtkXg7W_3u0"
      },
      "source": [
        "# Running a query\n",
        "\n",
        "Below we'll run two example queries. \n",
        "\n",
        "The first will get the version of GDS running on the database.\n",
        "\n",
        "The second will ask GDS to list all the procedures availabile within the library and return the first 5"
      ]
    },
    {
      "cell_type": "code",
      "metadata": {
        "id": "Pu1DiJV0_36y",
        "colab": {
          "base_uri": "https://localhost:8080/"
        },
        "outputId": "bf608c6b-2c08-48db-fa7c-6adc0a38c12c"
      },
      "source": [
        "# Cypher Query\n",
        "list_gds_version_query = \"\"\"\n",
        "RETURN gds.version() AS version\n",
        "\"\"\"\n",
        "\n",
        "# Create a driver session\n",
        "with driver.session() as session:\n",
        "  # use the driver session to run a query\n",
        "  # .data() gives us access the results as an array of dicts\n",
        "  results = session.run(list_gds_version_query).data()\n",
        "  print(results)\n"
      ],
      "execution_count": null,
      "outputs": [
        {
          "output_type": "stream",
          "name": "stdout",
          "text": [
            "[{'version': '2.0.1'}]\n"
          ]
        }
      ]
    },
    {
      "cell_type": "code",
      "metadata": {
        "id": "NTLntWgPbHBM",
        "colab": {
          "base_uri": "https://localhost:8080/"
        },
        "outputId": "81f5237c-7568-443b-d5a5-b79d3e64f5ec"
      },
      "source": [
        "import json\n",
        "\n",
        "list_all_gds_procedures_query = \"\"\"\n",
        "call gds.list()\n",
        "\"\"\"\n",
        "\n",
        "# Create a driver session\n",
        "with driver.session() as session:\n",
        "  # use the driver session to run a query\n",
        "  # .data() gives us access the results as an array of dicts\n",
        "  results = session.run(list_all_gds_procedures_query).data()\n",
        "  \n",
        "  # print the first 5 results\n",
        "  for procedure in results[:5]:\n",
        "    print(json.dumps(procedure, indent=2))\n"
      ],
      "execution_count": null,
      "outputs": [
        {
          "output_type": "stream",
          "name": "stdout",
          "text": [
            "{\n",
            "  \"name\": \"gds.allShortestPaths.delta.mutate\",\n",
            "  \"description\": \"The Delta Stepping shortest path algorithm computes the shortest (weighted) path between one node and any other node in the graph. The computation is run multi-threaded\",\n",
            "  \"signature\": \"gds.allShortestPaths.delta.mutate(graphName :: STRING?, configuration = {} :: MAP?) :: (relationshipsWritten :: INTEGER?, mutateMillis :: INTEGER?, postProcessingMillis :: INTEGER?, preProcessingMillis :: INTEGER?, computeMillis :: INTEGER?, configuration :: MAP?)\",\n",
            "  \"type\": \"procedure\"\n",
            "}\n",
            "{\n",
            "  \"name\": \"gds.allShortestPaths.delta.mutate.estimate\",\n",
            "  \"description\": \"Returns an estimation of the memory consumption for that procedure.\",\n",
            "  \"signature\": \"gds.allShortestPaths.delta.mutate.estimate(graphNameOrConfiguration :: ANY?, algoConfiguration :: MAP?) :: (requiredMemory :: STRING?, treeView :: STRING?, mapView :: MAP?, bytesMin :: INTEGER?, bytesMax :: INTEGER?, nodeCount :: INTEGER?, relationshipCount :: INTEGER?, heapPercentageMin :: FLOAT?, heapPercentageMax :: FLOAT?)\",\n",
            "  \"type\": \"procedure\"\n",
            "}\n",
            "{\n",
            "  \"name\": \"gds.allShortestPaths.delta.stream\",\n",
            "  \"description\": \"The Delta Stepping shortest path algorithm computes the shortest (weighted) path between one node and any other node in the graph. The computation is run multi-threaded\",\n",
            "  \"signature\": \"gds.allShortestPaths.delta.stream(graphName :: STRING?, configuration = {} :: MAP?) :: (index :: INTEGER?, sourceNode :: INTEGER?, targetNode :: INTEGER?, totalCost :: FLOAT?, nodeIds :: LIST? OF INTEGER?, costs :: LIST? OF FLOAT?, path :: PATH?)\",\n",
            "  \"type\": \"procedure\"\n",
            "}\n",
            "{\n",
            "  \"name\": \"gds.allShortestPaths.delta.stream.estimate\",\n",
            "  \"description\": \"Returns an estimation of the memory consumption for that procedure.\",\n",
            "  \"signature\": \"gds.allShortestPaths.delta.stream.estimate(graphNameOrConfiguration :: ANY?, algoConfiguration :: MAP?) :: (requiredMemory :: STRING?, treeView :: STRING?, mapView :: MAP?, bytesMin :: INTEGER?, bytesMax :: INTEGER?, nodeCount :: INTEGER?, relationshipCount :: INTEGER?, heapPercentageMin :: FLOAT?, heapPercentageMax :: FLOAT?)\",\n",
            "  \"type\": \"procedure\"\n",
            "}\n",
            "{\n",
            "  \"name\": \"gds.allShortestPaths.delta.write\",\n",
            "  \"description\": \"The Delta Stepping shortest path algorithm computes the shortest (weighted) path between one node and any other node in the graph. The computation is run multi-threaded\",\n",
            "  \"signature\": \"gds.allShortestPaths.delta.write(graphName :: STRING?, configuration = {} :: MAP?) :: (relationshipsWritten :: INTEGER?, writeMillis :: INTEGER?, postProcessingMillis :: INTEGER?, preProcessingMillis :: INTEGER?, computeMillis :: INTEGER?, configuration :: MAP?)\",\n",
            "  \"type\": \"procedure\"\n",
            "}\n"
          ]
        }
      ]
    },
    {
      "cell_type": "markdown",
      "metadata": {
        "id": "yFcBNizfqY24"
      },
      "source": [
        "# Closing your driver\n",
        "\n",
        "When you're finished interacting with your instance, you should close your driver connection."
      ]
    },
    {
      "cell_type": "code",
      "metadata": {
        "id": "XWefnCPIqZF4"
      },
      "source": [
        "# Close the Driver connection\n",
        "driver.close()"
      ],
      "execution_count": null,
      "outputs": []
    },
    {
      "cell_type": "markdown",
      "metadata": {
        "id": "E4zMYfSy_4hP"
      },
      "source": [
        "# References\n",
        "\n",
        "\n",
        "## Documentation\n",
        "* Neo4j GDSL Documentation: https://neo4j.com/docs/graph-data-science\n",
        "* Neo4j Driver Documentation:\n",
        "https://neo4j.com/docs/driver-manual/current/get-started/\n",
        "* Neo4j Developer Documentation:\n",
        "https://neo4j.com/developer\n",
        "\n",
        "## Cypher\n",
        "* Learn more about the Cypher syntax:\n",
        "https://neo4j.com/docs/cypher-manual/current/\n",
        "* The Cypher Reference Card is also a great resource for understanding how to use Cypher keywords:\n",
        "https://neo4j.com/docs/cypher-refcard/current/\n",
        "\n",
        "## Modelling\n",
        "* Data modelling guidelines:\n",
        "https://neo4j.com/developer/guide-data-modeling/\n",
        "* Data modelling design:\n",
        "https://neo4j.com/developer/modeling-designs/\n",
        "* Refactoring a data model:\n",
        "https://neo4j.com/developer/graph-model-refactoring/\n",
        "\n",
        "\n"
      ]
    }
  ]
}